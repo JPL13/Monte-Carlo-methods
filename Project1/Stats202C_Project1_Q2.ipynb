{
  "nbformat": 4,
  "nbformat_minor": 0,
  "metadata": {
    "kernelspec": {
      "display_name": "p36workshop",
      "language": "python",
      "name": "p36workshop"
    },
    "colab": {
      "name": "Stats202C-Project1-Q2.ipynb",
      "provenance": []
    }
  },
  "cells": [
    {
      "cell_type": "code",
      "metadata": {
        "id": "kCdCNMvQfLL2",
        "colab_type": "code",
        "colab": {}
      },
      "source": [
        "import pandas as pd\n",
        "import numpy as np\n",
        "import scipy as sc\n",
        "import matplotlib.pyplot as plt\n",
        "import time\n",
        "from matplotlib.ticker import PercentFormatter\n",
        "import warnings\n",
        "warnings.filterwarnings(\"ignore\")\n",
        "%matplotlib inline"
      ],
      "execution_count": 0,
      "outputs": []
    },
    {
      "cell_type": "code",
      "metadata": {
        "id": "ePSIc8GYfLMJ",
        "colab_type": "code",
        "colab": {}
      },
      "source": [
        "def getdir_pr(n_choices, eps=0.):\n",
        "    \n",
        "    pr=np.empty(4)\n",
        "    \n",
        "    for i in range(n_choices):\n",
        "        pr[i]=(1.-eps) / n_choices\n",
        "    \n",
        "    rand_n = np.random.randint(0, 1000)\n",
        "    \n",
        "    dir_1_th = 1000 * (eps + pr[0])\n",
        "    dir_2_th = 1000 * (eps + pr[0] + pr[1])\n",
        "    dir_3_th = 1000 * (eps + pr[0] + pr[1] + pr[2])\n",
        "    dir_4_th = 1000 * (eps + pr[0] + pr[1] + pr[2] + pr[3])\n",
        "    \n",
        "    direction=0 \n",
        "    if(rand_n < 1000 * eps):\n",
        "        direction = 0\n",
        "        probability = eps\n",
        "        return direction, probability\n",
        "    elif (rand_n < dir_1_th):\n",
        "        direction = 1\n",
        "        probability = pr[0]\n",
        "        return direction, probability\n",
        "    elif (rand_n < dir_2_th):\n",
        "        direction = 2\n",
        "        probability = pr[1]\n",
        "        return direction, probability\n",
        "    elif (rand_n < dir_3_th):\n",
        "        direction = 3\n",
        "        probability  = pr[2]\n",
        "        return direction, probability\n",
        "    elif (rand_n < dir_4_th):\n",
        "        direction = 4\n",
        "        probability = pr[3]\n",
        "        return direction, probability\n"
      ],
      "execution_count": 0,
      "outputs": []
    },
    {
      "cell_type": "markdown",
      "metadata": {
        "id": "J085ngNUfLMR",
        "colab_type": "text"
      },
      "source": [
        "## Design1 & 2"
      ]
    },
    {
      "cell_type": "code",
      "metadata": {
        "id": "NB-RCZpzfLMU",
        "colab_type": "code",
        "colab": {}
      },
      "source": [
        "def saw_weights(eps=0.):\n",
        "    \"\"\"\n",
        "    Tries to generate a SAW of length n using the myopic algorithm and keeps track of its weight\n",
        "    \n",
        "    Returns:\n",
        "        (x, y, stuck, weights) (list, list, bool, list): \n",
        "            (x,y) is a SAW of length <= n\n",
        "            stuck is 1 if the walk could not terminate\n",
        "            weights is a list of inverse probabilities \n",
        "    \"\"\"\n",
        "    x, y = [0], [0] \n",
        "    positions = set([(0,0)])\n",
        "    stuck = 0\n",
        "    hit_nn=0\n",
        "    g_x=1\n",
        "    while not(stuck):\n",
        "        deltas = [(1,0), (0,1), (-1,0), (0,-1)]\n",
        "        deltas_feasible = []\n",
        "        \n",
        "        for dx, dy in deltas:\n",
        "            current_x= x[-1] + dx\n",
        "            current_y= y[-1] + dy\n",
        "            if (current_x , current_y) not in positions:\n",
        "                if (current_x<11 and current_x>-1 and current_y<11 and current_y>-1):\n",
        "                    deltas_feasible.append((dx,dy))\n",
        "        if deltas_feasible:\n",
        "            \n",
        "            #weights.append(1./len(deltas_feasible))  #add inverse probability to weights\n",
        "            direct, probability = getdir_pr(len(deltas_feasible), eps)\n",
        "            #print(direct)\n",
        "            #print(probability)\n",
        "            if direct==0:\n",
        "                break\n",
        "            else:\n",
        "                dx, dy = deltas_feasible[direct-1]\n",
        "                positions.add((x[-1] + dx, y[-1] + dy))\n",
        "                x.append(x[-1] + dx)\n",
        "                y.append(y[-1] + dy)\n",
        "                g_x *= probability\n",
        "        else:\n",
        "            stuck = 1\n",
        "            if (x[-1]==10 and y[-1]==10):\n",
        "                hit_nn+=1\n",
        "            \n",
        "    return x, y, len(positions), g_x, hit_nn\n",
        "\n"
      ],
      "execution_count": 0,
      "outputs": []
    },
    {
      "cell_type": "code",
      "metadata": {
        "id": "xEz458JWfLMc",
        "colab_type": "code",
        "colab": {
          "base_uri": "https://localhost:8080/",
          "height": 1000
        },
        "outputId": "9148d7ea-39b2-4c62-f070-d63cda2aa4df"
      },
      "source": [
        "#Design1\n",
        "\n",
        "M= 10**7\n",
        "\n",
        "n_steps1=np.empty(M)\n",
        "E1 = np.empty(M)\n",
        "res1=0\n",
        "longest_path1=0\n",
        "weights1=np.empty(M)\n",
        "\n",
        "for paths in range(1,M):\n",
        "    x, y, length, g_x, hit_nn = saw_weights(eps=0.)\n",
        "    if(length>longest_path1):\n",
        "        longest_path1=length\n",
        "        longest1_x=x[:]\n",
        "        longest1_y=y[:]\n",
        " \n",
        "    n_steps1[paths]=length\n",
        "    res1 += 1./g_x\n",
        "    E1[paths]=res1/paths\n",
        "    weights1[paths]=1./g_x\n",
        "    if(paths % 100000 ==0):\n",
        "        print (paths)\n",
        "print(E1[-1])"
      ],
      "execution_count": 4,
      "outputs": [
        {
          "output_type": "stream",
          "text": [
            "100000\n",
            "200000\n",
            "300000\n",
            "400000\n",
            "500000\n",
            "600000\n",
            "700000\n",
            "800000\n",
            "900000\n",
            "1000000\n",
            "1100000\n",
            "1200000\n",
            "1300000\n",
            "1400000\n",
            "1500000\n",
            "1600000\n",
            "1700000\n",
            "1800000\n",
            "1900000\n",
            "2000000\n",
            "2100000\n",
            "2200000\n",
            "2300000\n",
            "2400000\n",
            "2500000\n",
            "2600000\n",
            "2700000\n",
            "2800000\n",
            "2900000\n",
            "3000000\n",
            "3100000\n",
            "3200000\n",
            "3300000\n",
            "3400000\n",
            "3500000\n",
            "3600000\n",
            "3700000\n",
            "3800000\n",
            "3900000\n",
            "4000000\n",
            "4100000\n",
            "4200000\n",
            "4300000\n",
            "4400000\n",
            "4500000\n",
            "4600000\n",
            "4700000\n",
            "4800000\n",
            "4900000\n",
            "5000000\n",
            "5100000\n",
            "5200000\n",
            "5300000\n",
            "5400000\n",
            "5500000\n",
            "5600000\n",
            "5700000\n",
            "5800000\n",
            "5900000\n",
            "6000000\n",
            "6100000\n",
            "6200000\n",
            "6300000\n",
            "6400000\n",
            "6500000\n",
            "6600000\n",
            "6700000\n",
            "6800000\n",
            "6900000\n",
            "7000000\n",
            "7100000\n",
            "7200000\n",
            "7300000\n",
            "7400000\n",
            "7500000\n",
            "7600000\n",
            "7700000\n",
            "7800000\n",
            "7900000\n",
            "8000000\n",
            "8100000\n",
            "8200000\n",
            "8300000\n",
            "8400000\n",
            "8500000\n",
            "8600000\n",
            "8700000\n",
            "8800000\n",
            "8900000\n",
            "9000000\n",
            "9100000\n",
            "9200000\n",
            "9300000\n",
            "9400000\n",
            "9500000\n",
            "9600000\n",
            "9700000\n",
            "9800000\n",
            "9900000\n",
            "3.463396474564872e+25\n"
          ],
          "name": "stdout"
        }
      ]
    },
    {
      "cell_type": "code",
      "metadata": {
        "id": "TZVvaNCCfLMk",
        "colab_type": "code",
        "colab": {
          "base_uri": "https://localhost:8080/",
          "height": 1000
        },
        "outputId": "2f3c5e1e-eeae-415e-931d-bcaf4c2dcaf8"
      },
      "source": [
        "#Design2\n",
        "\n",
        "n_steps2=np.empty(M)\n",
        "E2 = np.empty(M)\n",
        "weights2 = np.empty(M)\n",
        "res2=0\n",
        "longest_path2=0\n",
        "for paths in range(1,M):\n",
        "    x, y, length, g_x, hit_nn = saw_weights(eps=0.1)\n",
        "    if(length>longest_path2):\n",
        "        longest_path2=length\n",
        "        longest2_x=x[:]\n",
        "        longest2_y=y[:]\n",
        "    #print(length)\n",
        "    n_steps2[paths]=length\n",
        "    res2 +=1./g_x\n",
        "    E2[paths]=res2/paths\n",
        "    weights2[paths]=1./g_x\n",
        "    if(paths % 100000 ==0):\n",
        "        print (paths)\n",
        "\n",
        "print(E2[-1])"
      ],
      "execution_count": 5,
      "outputs": [
        {
          "output_type": "stream",
          "text": [
            "100000\n",
            "200000\n",
            "300000\n",
            "400000\n",
            "500000\n",
            "600000\n",
            "700000\n",
            "800000\n",
            "900000\n",
            "1000000\n",
            "1100000\n",
            "1200000\n",
            "1300000\n",
            "1400000\n",
            "1500000\n",
            "1600000\n",
            "1700000\n",
            "1800000\n",
            "1900000\n",
            "2000000\n",
            "2100000\n",
            "2200000\n",
            "2300000\n",
            "2400000\n",
            "2500000\n",
            "2600000\n",
            "2700000\n",
            "2800000\n",
            "2900000\n",
            "3000000\n",
            "3100000\n",
            "3200000\n",
            "3300000\n",
            "3400000\n",
            "3500000\n",
            "3600000\n",
            "3700000\n",
            "3800000\n",
            "3900000\n",
            "4000000\n",
            "4100000\n",
            "4200000\n",
            "4300000\n",
            "4400000\n",
            "4500000\n",
            "4600000\n",
            "4700000\n",
            "4800000\n",
            "4900000\n",
            "5000000\n",
            "5100000\n",
            "5200000\n",
            "5300000\n",
            "5400000\n",
            "5500000\n",
            "5600000\n",
            "5700000\n",
            "5800000\n",
            "5900000\n",
            "6000000\n",
            "6100000\n",
            "6200000\n",
            "6300000\n",
            "6400000\n",
            "6500000\n",
            "6600000\n",
            "6700000\n",
            "6800000\n",
            "6900000\n",
            "7000000\n",
            "7100000\n",
            "7200000\n",
            "7300000\n",
            "7400000\n",
            "7500000\n",
            "7600000\n",
            "7700000\n",
            "7800000\n",
            "7900000\n",
            "8000000\n",
            "8100000\n",
            "8200000\n",
            "8300000\n",
            "8400000\n",
            "8500000\n",
            "8600000\n",
            "8700000\n",
            "8800000\n",
            "8900000\n",
            "9000000\n",
            "9100000\n",
            "9200000\n",
            "9300000\n",
            "9400000\n",
            "9500000\n",
            "9600000\n",
            "9700000\n",
            "9800000\n",
            "9900000\n",
            "2.047343045934156e+25\n"
          ],
          "name": "stdout"
        }
      ]
    },
    {
      "cell_type": "code",
      "metadata": {
        "id": "Wi3y35SxfLMp",
        "colab_type": "code",
        "colab": {}
      },
      "source": [
        "# Generate childrens\n",
        "def gen_child(positions, x, y, g_x, longest_path3):\n",
        "    step=51\n",
        "    deltas = [(1,0), (0,1), (-1,0), (0,-1)]\n",
        "    stuck=0\n",
        "    hit_nn=0\n",
        "    \n",
        "    while not(stuck):\n",
        "        deltas_feasible = []\n",
        "\n",
        "        for dx, dy in deltas:\n",
        "            current_x= x[-1] + dx\n",
        "            current_y= y[-1] + dy\n",
        "            if (current_x , current_y) not in positions:\n",
        "                if (current_x<11 and current_x>-1 and current_y<11 and current_y>-1):\n",
        "                    deltas_feasible.append((dx,dy))\n",
        "        if deltas_feasible:\n",
        "            direct, probability = getdir_pr(len(deltas_feasible))\n",
        "           \n",
        "            dx, dy = deltas_feasible[direct-1]\n",
        "            positions.add((x[-1] + dx, y[-1] + dy))\n",
        "            x.append(x[-1] + dx)\n",
        "            y.append(y[-1] + dy)\n",
        "            step+=1\n",
        "            g_x *= probability\n",
        "\n",
        "        else:\n",
        "            stuck = 1\n",
        "            if (x[-1]==10 and y[-1]==10):\n",
        "                hit_nn+=1\n",
        "    longest3_x=[]\n",
        "    longest3_y=[]\n",
        "    n_steps3=step\n",
        "    if(len(positions)>longest_path3):\n",
        "        longest_path3=len(positions)\n",
        "        longest3_x=x[:]\n",
        "        longest3_y=y[:]\n",
        "    return g_x, longest_path3\n",
        "    "
      ],
      "execution_count": 0,
      "outputs": []
    },
    {
      "cell_type": "code",
      "metadata": {
        "scrolled": true,
        "id": "QYipw2ZafLM0",
        "colab_type": "code",
        "colab": {
          "base_uri": "https://localhost:8080/",
          "height": 1000
        },
        "outputId": "46289a32-86e5-4e8d-ef61-6f2e10734acb"
      },
      "source": [
        "#Design3\n",
        "\n",
        "M=10**7\n",
        "    \n",
        "path=0\n",
        "\n",
        "wt_sum=0.\n",
        "\n",
        "E3 = np.empty(M)\n",
        "n_steps3=np.empty(M)\n",
        "weights3 = np.empty(M)\n",
        "\n",
        "deltas = [(1,0), (0,1), (-1,0), (0,-1)]\n",
        "\n",
        "longest_path3=0\n",
        "longest3_x=[]\n",
        "longest3_y=[]\n",
        "\n",
        "while (path<M+1):\n",
        "    x, y = [0], [0] \n",
        "    g_x=1\n",
        "    positions = set([(0,0)])\n",
        "    stuck = 0\n",
        "    hit_nn=0   \n",
        "    \n",
        "    step=0 \n",
        "    \n",
        "    while not(stuck):\n",
        "        deltas_feasible = []\n",
        "\n",
        "        # gather all feasible directions at each step\n",
        "        for dx, dy in deltas:\n",
        "            current_x= x[-1] + dx\n",
        "            current_y= y[-1] + dy\n",
        "            if (current_x , current_y) not in positions:\n",
        "                if (current_x<11 and current_x>-1 and current_y<11 and current_y>-1):\n",
        "                    deltas_feasible.append((dx,dy))\n",
        "\n",
        "        if deltas_feasible:         \n",
        "            direct, probability = getdir_pr(len(deltas_feasible))\n",
        "\n",
        "            dx, dy = deltas_feasible[direct-1]\n",
        "            positions.add((x[-1] + dx, y[-1] + dy))\n",
        "            x.append(x[-1] + dx)\n",
        "            y.append(y[-1] + dy)                \n",
        "            step+=1\n",
        "            g_x *= probability\n",
        "\n",
        "            if step>50:\n",
        "                child=0\n",
        "                while(child<5):\n",
        "                    child+=1\n",
        "                    g_temp, length = gen_child(positions, x, y, g_x, longest_path3)\n",
        "                    #print(g_temp)\n",
        "                    wt_sum += 1./g_temp/5.\n",
        "                    path+=1\n",
        "                    step=0\n",
        "                    if(path>M):\n",
        "                        break\n",
        "                    E3[path-1]= wt_sum/path\n",
        "                    n_steps3[path-1]=length\n",
        "                    weights3[path-1]=1./g_temp/5.\n",
        "                    if(length>longest_path3):\n",
        "                        longest_path3=length\n",
        "                        longest3_x=x[:]\n",
        "                        longest3_y=y[:]\n",
        "                break          \n",
        "\n",
        "               \n",
        "        else:\n",
        "            stuck = 1\n",
        "            if (x[-1]==10 and y[-1]==10):\n",
        "                hit_nn+=1\n",
        "\n",
        "    if(step>longest_path3):\n",
        "        longest_path3=step\n",
        "        longest3_x=x[:]\n",
        "        longest3_y=y[:]\n",
        "    \n",
        "    path+=1\n",
        "    if(path>M):\n",
        "        break \n",
        "    wt_sum+=1./g_x\n",
        "    E3[path-1]= wt_sum/path\n",
        "    weights3[path-1]=1./g_x\n",
        "    n_steps3[path-1]=step\n",
        "    #print(E3[0])\n",
        "    \n",
        "    \n",
        "    \n",
        "    if(path % 100000 ==0):\n",
        "        print (path)\n",
        "\n",
        "       \n",
        "print(E3[-1])"
      ],
      "execution_count": 7,
      "outputs": [
        {
          "output_type": "stream",
          "text": [
            "100000\n",
            "400000\n",
            "500000\n",
            "600000\n",
            "900000\n",
            "1100000\n",
            "1200000\n",
            "1400000\n",
            "1700000\n",
            "1800000\n",
            "1900000\n",
            "2000000\n",
            "2200000\n",
            "2300000\n",
            "2400000\n",
            "2500000\n",
            "2600000\n",
            "2800000\n",
            "2900000\n",
            "3100000\n",
            "3200000\n",
            "3300000\n",
            "3400000\n",
            "3500000\n",
            "3600000\n",
            "3800000\n",
            "4000000\n",
            "4100000\n",
            "4200000\n",
            "4500000\n",
            "4600000\n",
            "4700000\n",
            "4900000\n",
            "5000000\n",
            "5200000\n",
            "5500000\n",
            "5600000\n",
            "5700000\n",
            "5900000\n",
            "6000000\n",
            "6100000\n",
            "6200000\n",
            "6300000\n",
            "6500000\n",
            "6700000\n",
            "6800000\n",
            "6900000\n",
            "7200000\n",
            "7700000\n",
            "7900000\n",
            "8000000\n",
            "8100000\n",
            "8200000\n",
            "8400000\n",
            "8600000\n",
            "8700000\n",
            "8800000\n",
            "8900000\n",
            "9600000\n",
            "9800000\n",
            "10000000\n",
            "3.539262040090557e+24\n"
          ],
          "name": "stdout"
        }
      ]
    },
    {
      "cell_type": "code",
      "metadata": {
        "id": "5lAl9ki0fLNb",
        "colab_type": "code",
        "colab": {},
        "outputId": "91df9c75-ff25-4659-f9de-32e7fd02e593"
      },
      "source": [
        "n_steps3"
      ],
      "execution_count": 0,
      "outputs": [
        {
          "output_type": "execute_result",
          "data": {
            "text/plain": [
              "array([21.,  5., 42., ..., 43., 16.,  5.])"
            ]
          },
          "metadata": {
            "tags": []
          },
          "execution_count": 311
        }
      ]
    },
    {
      "cell_type": "code",
      "metadata": {
        "scrolled": false,
        "id": "Ljz32BkFfLOA",
        "colab_type": "code",
        "colab": {},
        "outputId": "d2b8c557-bec3-4f17-fd08-33262c499e5f"
      },
      "source": [
        "weights3"
      ],
      "execution_count": 0,
      "outputs": [
        {
          "output_type": "execute_result",
          "data": {
            "text/plain": [
              "array([1.49299200e+06, 7.20000000e+01, 2.03119913e+14, ...,\n",
              "       2.77639532e+16, 6.22080000e+04, 7.20000000e+01])"
            ]
          },
          "metadata": {
            "tags": []
          },
          "execution_count": 312
        }
      ]
    },
    {
      "cell_type": "code",
      "metadata": {
        "id": "VvUnnTaAfLOH",
        "colab_type": "code",
        "colab": {
          "base_uri": "https://localhost:8080/",
          "height": 299
        },
        "outputId": "3fb9b406-8253-462c-ee92-c367bc7070a6"
      },
      "source": [
        "fig = plt.figure()\n",
        "plt.plot(E1)\n",
        "plt.plot(E2)\n",
        "plt.plot(E3[1:])\n",
        "plt.xscale('log')\n",
        "plt.yscale('log')\n",
        "plt.xlabel('M samples')\n",
        "plt.ylabel('Estimated number of SAW')\n",
        "plt.title('Estimated Number of Self-Avoiding Walks for M Samples')\n",
        "plt.legend(['Design 1', 'Design 2', 'Design 3'])\n",
        "fig.savefig('2a.png', dpi=300)\n",
        "plt.show()"
      ],
      "execution_count": 8,
      "outputs": [
        {
          "output_type": "display_data",
          "data": {
            "image/png": "[encoded data removed]",
            "text/plain": [
              "<Figure size 432x288 with 1 Axes>"
            ]
          },
          "metadata": {
            "tags": [],
            "needs_background": "light"
          }
        }
      ]
    },
    {
      "cell_type": "code",
      "metadata": {
        "scrolled": true,
        "id": "6VaII_8RfLOL",
        "colab_type": "code",
        "colab": {
          "base_uri": "https://localhost:8080/",
          "height": 295
        },
        "outputId": "e0369d4b-7b41-4aff-9624-0a9967297d40"
      },
      "source": [
        "fig = plt.figure()\n",
        "plt.hist(n_steps1, bins=120, weights=weights1, alpha=0.5, label='Design 1', color='green')\n",
        "#plt.hist(n_steps2[1:], bins=120, weights=weights2[1:], alpha=0.5, label='Design 2', color='blue')\n",
        "#plt.hist(n_steps3, bins=120, weights=weights3, alpha=0.5, label='Design 3', color='red')\n",
        "plt.grid()\n",
        "plt.xlabel('SAW length')\n",
        "plt.ylabel('Count')\n",
        "plt.title('Distribution of SAW Lengths for Design 1')\n",
        "#plt.legend('Design 1')\n",
        "fig.savefig('2c_histogram1.png', dpi=300)\n",
        "plt.show()\n"
      ],
      "execution_count": 9,
      "outputs": [
        {
          "output_type": "display_data",
          "data": {
            "image/png": "[encoded data removed]",
            "text/plain": [
              "<Figure size 432x288 with 1 Axes>"
            ]
          },
          "metadata": {
            "tags": [],
            "needs_background": "light"
          }
        }
      ]
    },
    {
      "cell_type": "code",
      "metadata": {
        "id": "GDYUgO_5fLOR",
        "colab_type": "code",
        "colab": {
          "base_uri": "https://localhost:8080/",
          "height": 295
        },
        "outputId": "9088353b-75a5-47fe-aed6-2c17ebaab1ce"
      },
      "source": [
        "fig = plt.figure()\n",
        "#plt.hist(n_steps1, bins=120, weights=weights1, alpha=0.5, label='Design 1', color='green')\n",
        "plt.hist(n_steps2[1:], bins=120, weights=weights2[1:], alpha=0.5, label='Design 2', color='blue')\n",
        "#plt.hist(n_steps3, bins=120, weights=weights3, alpha=0.5, label='Design 3', color='red')\n",
        "plt.grid()\n",
        "plt.xlabel('SAW length')\n",
        "plt.ylabel('Count')\n",
        "plt.title('Distribution of SAW Lengths for Design 2')\n",
        "#plt.legend('Design 2')\n",
        "fig.savefig('2c_histogram2.png', dpi=300)\n",
        "plt.show()"
      ],
      "execution_count": 10,
      "outputs": [
        {
          "output_type": "display_data",
          "data": {
            "image/png": "[encoded data removed]",
            "text/plain": [
              "<Figure size 432x288 with 1 Axes>"
            ]
          },
          "metadata": {
            "tags": [],
            "needs_background": "light"
          }
        }
      ]
    },
    {
      "cell_type": "code",
      "metadata": {
        "id": "XEyCCnPSfLOX",
        "colab_type": "code",
        "colab": {
          "base_uri": "https://localhost:8080/",
          "height": 295
        },
        "outputId": "5034e48d-8a23-459d-dba8-10c93e0cbbeb"
      },
      "source": [
        "fig = plt.figure()\n",
        "#plt.hist(n_steps1, bins=120, weights=weights1, alpha=0.5, label='Design 1', color='green')\n",
        "#plt.hist(n_steps2[1:], bins=120, weights=weights2[1:], alpha=0.5, label='Design 2', color='blue')\n",
        "plt.hist(n_steps3[1:], bins=120,  weights=weights3[1:], alpha=0.5, label='Design 3', color='red')\n",
        "plt.grid()\n",
        "plt.xlabel('SAW length')\n",
        "plt.ylabel('Count')\n",
        "plt.title('Distribution of SAW Lengths for Design3')\n",
        "#plt.legend('Design 3')\n",
        "fig.savefig('2c_histogram3.png', dpi=300)\n",
        "plt.show()"
      ],
      "execution_count": 11,
      "outputs": [
        {
          "output_type": "display_data",
          "data": {
            "image/png": "[encoded data removed]",
            "text/plain": [
              "<Figure size 432x288 with 1 Axes>"
            ]
          },
          "metadata": {
            "tags": [],
            "needs_background": "light"
          }
        }
      ]
    },
    {
      "cell_type": "markdown",
      "metadata": {
        "id": "mk4IOyGPfLOo",
        "colab_type": "text"
      },
      "source": [
        "## Hit (n,n)"
      ]
    },
    {
      "cell_type": "code",
      "metadata": {
        "id": "_1rbSnYwfLOr",
        "colab_type": "code",
        "colab": {}
      },
      "source": [
        "M=10**6\n",
        "    \n",
        "path=0\n",
        "\n",
        "wt_sum=0.\n",
        "\n",
        "E1_nn = np.empty(M)\n",
        "\n",
        "deltas = [(1,0), (0,1), (-1,0), (0,-1)]\n",
        "\n",
        "\n",
        "while (path<M):\n",
        "   \n",
        "    x, y = [0], [0] \n",
        "    positions = set([(0,0)])\n",
        "    stuck = 0\n",
        "    attempts=1\n",
        "    g_x=1.\n",
        "    \n",
        "    while not(stuck):\n",
        "            \n",
        "        deltas = [(1,0), (0,1), (-1,0), (0,-1)]\n",
        "        deltas_feasible = []\n",
        "        \n",
        "        for dx, dy in deltas:\n",
        "            current_x= x[-1] + dx\n",
        "            current_y= y[-1] + dy\n",
        "            if (current_x , current_y) not in positions:\n",
        "                if (current_x<11 and current_x>-1 and current_y<11 and current_y>-1):\n",
        "                    deltas_feasible.append((dx,dy))\n",
        "        if deltas_feasible:\n",
        "            \n",
        "            direct, probability = getdir_pr(len(deltas_feasible))\n",
        "\n",
        "            dx, dy = deltas_feasible[direct-1]\n",
        "            positions.add((x[-1] + dx, y[-1] + dy))\n",
        "            x.append(x[-1] + dx)\n",
        "            y.append(y[-1] + dy)\n",
        "            g_x *= probability \n",
        "            \n",
        "            if (x[-1]==10 and y[-1]==10):\n",
        "                path+=1\n",
        "                if(path>=M):\n",
        "                    break\n",
        "                wt_sum+=1./g_x/attempts\n",
        "                E1_nn[path]= wt_sum/path\n",
        "                break\n",
        "        else:\n",
        "            stuck=1\n",
        "            attempts+=1\n",
        "    \n"
      ],
      "execution_count": 0,
      "outputs": []
    },
    {
      "cell_type": "code",
      "metadata": {
        "scrolled": false,
        "id": "PcYZGpXQfLOx",
        "colab_type": "code",
        "colab": {},
        "outputId": "a14d2071-a6d0-48ed-ee42-068d36a74991"
      },
      "source": [
        "E1_nn[-1]"
      ],
      "execution_count": 0,
      "outputs": [
        {
          "output_type": "execute_result",
          "data": {
            "text/plain": [
              "1.5787835001893968e+25"
            ]
          },
          "metadata": {
            "tags": []
          },
          "execution_count": 202
        }
      ]
    },
    {
      "cell_type": "code",
      "metadata": {
        "scrolled": true,
        "id": "MfnrGrDxfLO1",
        "colab_type": "code",
        "colab": {}
      },
      "source": [
        "\n"
      ],
      "execution_count": 0,
      "outputs": []
    },
    {
      "cell_type": "code",
      "metadata": {
        "id": "j5LtSAa1fLO4",
        "colab_type": "code",
        "colab": {}
      },
      "source": [
        ""
      ],
      "execution_count": 0,
      "outputs": []
    },
    {
      "cell_type": "code",
      "metadata": {
        "id": "uUeh8BHkfLO6",
        "colab_type": "code",
        "colab": {}
      },
      "source": [
        ""
      ],
      "execution_count": 0,
      "outputs": []
    },
    {
      "cell_type": "markdown",
      "metadata": {
        "id": "uNQwM9aWfLO-",
        "colab_type": "text"
      },
      "source": [
        "## Longest path 1"
      ]
    },
    {
      "cell_type": "code",
      "metadata": {
        "id": "lKbqapw3fLO_",
        "colab_type": "code",
        "colab": {
          "base_uri": "https://localhost:8080/",
          "height": 522
        },
        "outputId": "479593a1-f25d-457a-95c4-ce061323b10e"
      },
      "source": [
        "#x, y, stuck, steps = saw_weights()\n",
        "\n",
        "fig= plt.figure(figsize=(8,8))\n",
        "\n",
        "ax = fig.gca()\n",
        "ax.set_xlim(-0.5, 10.5)\n",
        "ax.set_ylim(-0.5, 10.5)\n",
        "ax.set_aspect('equal', adjustable='box')\n",
        "\n",
        "ax.set_xticks(np.arange(0, 11, 1))\n",
        "ax.set_yticks(np.arange(0, 11, 1))\n",
        "plt.plot(longest1_x, longest1_y, 'bo-', linewidth = 1)\n",
        "plt.plot(0, 0, 'go', ms = 12, label = 'Start')\n",
        "plt.plot(longest1_x[-1], longest1_y[-1], 'ro', ms = 12, label = 'End')\n",
        "#plt.axis('equal')\n",
        "plt.legend()\n",
        "plt.grid()\n",
        "\n",
        "plt.title('Walk stuck at step ' + str(longest_path1), fontsize=14, fontweight='bold', y = 1.05)\n",
        "\n",
        "fig.savefig('3_longest1.png', dpi=300)\n",
        "\n",
        "plt.show()"
      ],
      "execution_count": 12,
      "outputs": [
        {
          "output_type": "display_data",
          "data": {
            "image/png": "[encoded data removed]",
            "text/plain": [
              "<Figure size 576x576 with 1 Axes>"
            ]
          },
          "metadata": {
            "tags": [],
            "needs_background": "light"
          }
        }
      ]
    },
    {
      "cell_type": "markdown",
      "metadata": {
        "id": "2lX8mPfQfLPC",
        "colab_type": "text"
      },
      "source": [
        "## Longest path 2"
      ]
    },
    {
      "cell_type": "code",
      "metadata": {
        "id": "kkav9hf0fLPD",
        "colab_type": "code",
        "colab": {
          "base_uri": "https://localhost:8080/",
          "height": 522
        },
        "outputId": "e9b1c881-e24b-4073-bd2a-5052766d10be"
      },
      "source": [
        "#x, y, stuck, steps = saw_weights()\n",
        "\n",
        "fig= plt.figure(figsize=(8,8))\n",
        "\n",
        "ax = fig.gca()\n",
        "ax.set_xlim(-0.5, 10.5)\n",
        "ax.set_ylim(-0.5, 10.5)\n",
        "ax.set_aspect('equal', adjustable='box')\n",
        "\n",
        "ax.set_xticks(np.arange(0, 11, 1))\n",
        "ax.set_yticks(np.arange(0, 11, 1))\n",
        "plt.plot(longest2_x, longest2_y, 'bo-', linewidth = 1)\n",
        "plt.plot(0, 0, 'go', ms = 12, label = 'Start')\n",
        "plt.plot(longest2_x[-1], longest2_y[-1], 'ro', ms = 12, label = 'End')\n",
        "#plt.axis('equal')\n",
        "plt.legend()\n",
        "plt.grid()\n",
        "\n",
        "plt.title('Walk stuck at step ' + str(longest_path2), fontsize=14, fontweight='bold', y = 1.05)\n",
        "\n",
        "fig.savefig('3_longest2.png', dpi=300)\n",
        "\n",
        "\n",
        "plt.show()"
      ],
      "execution_count": 13,
      "outputs": [
        {
          "output_type": "display_data",
          "data": {
            "image/png": "[encoded data removed]",
            "text/plain": [
              "<Figure size 576x576 with 1 Axes>"
            ]
          },
          "metadata": {
            "tags": [],
            "needs_background": "light"
          }
        }
      ]
    },
    {
      "cell_type": "markdown",
      "metadata": {
        "id": "klzi6Vs_fLPK",
        "colab_type": "text"
      },
      "source": [
        "## Longest path3"
      ]
    },
    {
      "cell_type": "code",
      "metadata": {
        "scrolled": true,
        "id": "yMvRBS7OfLPS",
        "colab_type": "code",
        "colab": {
          "base_uri": "https://localhost:8080/",
          "height": 522
        },
        "outputId": "d3debec3-6a63-499a-f883-b51240cfb55a"
      },
      "source": [
        "\n",
        "#x, y, stuck, steps = saw_weights()\n",
        "\n",
        "fig= plt.figure(figsize=(8,8))\n",
        "#plt.axis([0, 11, 0, 11])\n",
        "\n",
        "ax = fig.gca()\n",
        "ax.set_xlim(-0.5, 10.5)\n",
        "ax.set_ylim(-0.5, 10.5)\n",
        "ax.set_aspect('equal', adjustable='box')\n",
        "\n",
        "ax.set_xticks(np.arange(0, 11, 1))\n",
        "ax.set_yticks(np.arange(0, 11, 1))\n",
        "plt.plot(longest3_x, longest3_y, 'bo-', linewidth = 1)\n",
        "plt.plot(0, 0, 'go', ms = 12, label = 'Start')\n",
        "plt.plot(longest3_x[-1], longest3_y[-1], 'ro', ms = 12, label = 'End')\n",
        "#plt.axis('equal')\n",
        "plt.legend()\n",
        "plt.grid()\n",
        "\n",
        "plt.title('Walk stuck at step ' + str(longest_path3), fontsize=14, fontweight='bold', y = 1.05)\n",
        "\n",
        "fig.savefig('3_longest3.png', dpi=300)\n",
        "\n",
        "plt.show()\n"
      ],
      "execution_count": 14,
      "outputs": [
        {
          "output_type": "display_data",
          "data": {
            "image/png": "[encoded data removed]",
            "text/plain": [
              "<Figure size 576x576 with 1 Axes>"
            ]
          },
          "metadata": {
            "tags": [],
            "needs_background": "light"
          }
        }
      ]
    },
    {
      "cell_type": "code",
      "metadata": {
        "id": "jZ2H4FpBfLPi",
        "colab_type": "code",
        "colab": {}
      },
      "source": [
        ""
      ],
      "execution_count": 0,
      "outputs": []
    }
  ]
}